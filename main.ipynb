{
 "cells": [
  {
   "cell_type": "markdown",
   "metadata": {},
   "source": [
    "# Lab Exercise\n",
    "\n",
    "## Lecture 1\n"
   ]
  },
  {
   "cell_type": "markdown",
   "metadata": {},
   "source": [
    "### Question 1\n",
    "\n",
    "Create a one-line expression that achieve the same output as the below with the square bracket notation.\n",
    "\n",
    "``` python\n",
    "NBA = dict(\n",
    "    OklahomaCity=\"Thunder\",\n",
    "    Dallas=\"Mavericks\",\n",
    "    Boston=\"Celtics\",\n",
    "    NewYork=\"Knicks\",\n",
    "    Denver=\"Nuggets\",\n",
    ")\n",
    "\n",
    "retrieve = NBA.get(\"Toronto\", False)\n",
    "print(retrieve)\n",
    "```"
   ]
  },
  {
   "cell_type": "code",
   "execution_count": 2,
   "metadata": {},
   "outputs": [
    {
     "name": "stdout",
     "output_type": "stream",
     "text": [
      "False\n"
     ]
    }
   ],
   "source": [
    "NBA = dict(\n",
    "    OklahomaCity=\"Thunder\",\n",
    "    Dallas=\"Mavericks\",\n",
    "    Boston=\"Celtics\",\n",
    "    NewYork=\"Knicks\",\n",
    "    Denver=\"Nuggets\",\n",
    ")"
   ]
  },
  {
   "cell_type": "code",
   "execution_count": 1,
   "metadata": {},
   "outputs": [
    {
     "name": "stdout",
     "output_type": "stream",
     "text": [
      "False\n"
     ]
    }
   ],
   "source": [
    "print(NBA['Toronto'] if 'Toronto' in NBA else False)"
   ]
  },
  {
   "cell_type": "markdown",
   "metadata": {},
   "source": [
    "### Question 2\n",
    "\n",
    "Given two numbers, a and b, write a function called compare_numbers that returns a string indicating the following:\n",
    "\n",
    "- If a is greater than b, return \"a is greater\"\n",
    "- If b is greater than a, return \"b is greater\"\n",
    "- If both numbers are equal, return \"a and b are equal\"\n",
    "\n",
    "Use the ternary operator to implement the function.\n",
    "\n",
    "``` python\n",
    "def compare_numbers(a, b):\n",
    "    pass\n",
    "```"
   ]
  },
  {
   "cell_type": "code",
   "execution_count": 3,
   "metadata": {},
   "outputs": [
    {
     "name": "stdout",
     "output_type": "stream",
     "text": [
      "b is greater\n",
      "a is greater\n",
      "a and b are equal\n"
     ]
    }
   ],
   "source": [
    "def compare_numbers(a, b):\n",
    "    return \"a is greater\" if a > b else \"b is greater\" if b > a else \"a and b are equal\"\n",
    "\n",
    "# Example usage:\n",
    "print(compare_numbers(3, 5))  # Output: b is greater\n",
    "print(compare_numbers(10, 2))  # Output: a is greater\n",
    "print(compare_numbers(4, 4))  # Output: a and b are equal\n"
   ]
  },
  {
   "cell_type": "markdown",
   "metadata": {},
   "source": [
    "### Question 3\n",
    "\n",
    "Examine following JS code snippet and re-create the logic\n",
    "using Python. Implement the logic as a function that accepts secret_word\n",
    "as a positional parameter and max_attempt as keyword parameter.\n",
    "\n",
    "``` js\n",
    "let secret_word = \"javascript\";\n",
    "let max_attempt = 5;\n",
    "do {\n",
    "    userInput = prompt(\"Enter the secret word: \");\n",
    "    max_attempt -= 1;\n",
    "    console.log(max_attempt)\n",
    "} while (secret_word != userInput && max_attempt > 0);\n",
    "\n",
    "```"
   ]
  },
  {
   "cell_type": "code",
   "execution_count": 5,
   "metadata": {},
   "outputs": [
    {
     "name": "stdout",
     "output_type": "stream",
     "text": [
      "4\n",
      "3\n",
      "2\n",
      "1\n",
      "0\n"
     ]
    }
   ],
   "source": [
    "def guess_secret_word(secret_word, max_attempt=5):\n",
    "    while max_attempt > 0:\n",
    "        user_input = input(\"Enter the secret word: \")\n",
    "        max_attempt -= 1\n",
    "        print(max_attempt)\n",
    "        if secret_word == user_input:\n",
    "            break\n",
    "\n",
    "# Example usage:\n",
    "guess_secret_word(\"python\", max_attempt=5)\n"
   ]
  },
  {
   "cell_type": "markdown",
   "metadata": {},
   "source": [
    "### Question 4\n",
    "\n",
    "Based on the following function definition, identify which of the following parameters are positional-only, keyword-only and/or may be positionally or by keyword.\n",
    "\n",
    "``` python\n",
    "def processor(value_1, value_2, /, value_3, value_4=False, *, value_5, value_6):\n",
    "    text = (value_1 + value_2).upper()\n",
    "    if value_3:\n",
    "        text += \"!\"\n",
    "    if value_4:\n",
    "        text = list(text)\n",
    "        text.extend((value_5, value_6))\n",
    "    return text\n",
    "```"
   ]
  },
  {
   "cell_type": "markdown",
   "metadata": {},
   "source": [
    "To identify the parameter types in the function `processor`, let's examine the function signature:\n",
    "\n",
    "```python\n",
    "def processor(value_1, value_2, /, value_3, value_4=False, *, value_5, value_6):\n",
    "```\n",
    "\n",
    "1. **Positional-only parameters**:\n",
    "   - `value_1`\n",
    "   - `value_2`\n",
    "   \n",
    "   These parameters appear before the `/`, which means they must be provided as positional arguments.\n",
    "\n",
    "2. **Parameters that can be passed either positionally or by keyword**:\n",
    "   - `value_3`\n",
    "   - `value_4`\n",
    "   \n",
    "   These parameters appear between the `/` and `*`, allowing them to be provided either as positional or keyword arguments. Note that `value_4` has a default value of `False`.\n",
    "\n",
    "3. **Keyword-only parameters**:\n",
    "   - `value_5`\n",
    "   - `value_6`\n",
    "   \n",
    "   These parameters appear after the `*`, meaning they must be provided as keyword arguments.\n",
    "\n",
    "In summary:\n",
    "- Positional-only parameters: `value_1`, `value_2`\n",
    "- Parameters that can be positional or keyword: `value_3`, `value_4`\n",
    "- Keyword-only parameters: `value_5`, `value_6`"
   ]
  },
  {
   "cell_type": "markdown",
   "metadata": {},
   "source": [
    "## Lecture 2\n",
    "\n"
   ]
  },
  {
   "cell_type": "markdown",
   "metadata": {},
   "source": [
    "### Question 1\n",
    "\n",
    "-Create a Triangle Class based on the following specifications:\n",
    "    - Two arguments are accepted: 1) List of side lengths; 2) List of angles.\n",
    "    - Validate 3 side length values and 3 angle values are    provided.\n",
    "    - All values in the list must be non-zero Int or Float.\n",
    "    - The angles must add up to 180°\n",
    "    - Hint: Use Property or Descriptor-based attributes.\n",
    "- Create an Instance method to calculate the perimeter of the triangle.\n",
    "- Create a Static method to calculate the hypothenuse when supplied with two sides.\n",
    "- Create a Dunder method to determine if one triangle instance is larger than another based it perimeter.\n",
    "- Create a Dunder method to generate an iterator based on the side lengths of a specific instance.\n"
   ]
  },
  {
   "cell_type": "code",
   "execution_count": 6,
   "metadata": {},
   "outputs": [
    {
     "name": "stdout",
     "output_type": "stream",
     "text": [
      "Perimeter of triangle1: 12\n",
      "Hypothenuse of sides 3 and 4: 5.0\n",
      "Triangle1 is larger than Triangle2: False\n",
      "Side length: 3\n",
      "Side length: 4\n",
      "Side length: 5\n"
     ]
    }
   ],
   "source": [
    "class Triangle:\n",
    "    def __init__(self, sides, angles):\n",
    "        if len(sides) != 3 or len(angles) != 3:\n",
    "            raise ValueError(\"There must be exactly 3 side lengths and 3 angle values.\")\n",
    "        if not all(isinstance(value, (int, float)) and value > 0 for value in sides + angles):\n",
    "            raise ValueError(\"All values must be non-zero integers or floats.\")\n",
    "        if sum(angles) != 180:\n",
    "            raise ValueError(\"The angles must add up to 180 degrees.\")\n",
    "        \n",
    "        self.sides = sides\n",
    "        self.angles = angles\n",
    "\n",
    "    @property\n",
    "    def sides(self):\n",
    "        return self._sides\n",
    "    \n",
    "    @sides.setter\n",
    "    def sides(self, value):\n",
    "        if len(value) != 3:\n",
    "            raise ValueError(\"There must be exactly 3 side lengths.\")\n",
    "        if not all(isinstance(val, (int, float)) and val > 0 for val in value):\n",
    "            raise ValueError(\"All side lengths must be non-zero integers or floats.\")\n",
    "        self._sides = value\n",
    "    \n",
    "    @property\n",
    "    def angles(self):\n",
    "        return self._angles\n",
    "    \n",
    "    @angles.setter\n",
    "    def angles(self, value):\n",
    "        if len(value) != 3:\n",
    "            raise ValueError(\"There must be exactly 3 angle values.\")\n",
    "        if not all(isinstance(val, (int, float)) and val > 0 for val in value):\n",
    "            raise ValueError(\"All angle values must be non-zero integers or floats.\")\n",
    "        if sum(value) != 180:\n",
    "            raise ValueError(\"The angles must add up to 180 degrees.\")\n",
    "        self._angles = value\n",
    "    \n",
    "    def perimeter(self):\n",
    "        return sum(self.sides)\n",
    "    \n",
    "    @staticmethod\n",
    "    def hypothenuse(side1, side2):\n",
    "        if not all(isinstance(val, (int, float)) and val > 0 for val in [side1, side2]):\n",
    "            raise ValueError(\"The sides must be non-zero integers or floats.\")\n",
    "        return (side1**2 + side2**2)**0.5\n",
    "    \n",
    "    def __gt__(self, other):\n",
    "        if not isinstance(other, Triangle):\n",
    "            return NotImplemented\n",
    "        return self.perimeter() > other.perimeter()\n",
    "    \n",
    "    def __iter__(self):\n",
    "        return iter(self.sides)\n",
    "\n",
    "# Example Usage\n",
    "triangle1 = Triangle([3, 4, 5], [90, 60, 30])\n",
    "triangle2 = Triangle([6, 8, 10], [90, 45, 45])\n",
    "\n",
    "print(\"Perimeter of triangle1:\", triangle1.perimeter())\n",
    "print(\"Hypothenuse of sides 3 and 4:\", Triangle.hypothenuse(3, 4))\n",
    "\n",
    "# Comparison based on perimeter\n",
    "print(\"Triangle1 is larger than Triangle2:\", triangle1 > triangle2)\n",
    "\n",
    "# Iterating over side lengths\n",
    "for side in triangle1:\n",
    "    print(\"Side length:\", side)\n"
   ]
  },
  {
   "cell_type": "markdown",
   "metadata": {},
   "source": [
    "### Question 2\n",
    "\n",
    "Based on the Triangle Class (above), create an Isosceles Triangle Subclass (e.g., two side and two angles are equal). Override and extend any inherited methods as needed.\n",
    "\n",
    "- Create an Instance Method to determine the height of an isosceles triangle.\n"
   ]
  },
  {
   "cell_type": "code",
   "execution_count": 7,
   "metadata": {},
   "outputs": [
    {
     "name": "stdout",
     "output_type": "stream",
     "text": [
      "Perimeter of isosceles triangle: 16\n",
      "Height of the isosceles triangle: 4.0\n",
      "IsoscelesTriangle1 is larger than IsoscelesTriangle2: False\n",
      "Side length: 5\n",
      "Side length: 5\n",
      "Side length: 6\n"
     ]
    }
   ],
   "source": [
    "import math\n",
    "\n",
    "class Triangle:\n",
    "    def __init__(self, sides, angles):\n",
    "        if len(sides) != 3 or len(angles) != 3:\n",
    "            raise ValueError(\"There must be exactly 3 side lengths and 3 angle values.\")\n",
    "        if not all(isinstance(value, (int, float)) and value > 0 for value in sides + angles):\n",
    "            raise ValueError(\"All values must be non-zero integers or floats.\")\n",
    "        if sum(angles) != 180:\n",
    "            raise ValueError(\"The angles must add up to 180 degrees.\")\n",
    "        \n",
    "        self.sides = sides\n",
    "        self.angles = angles\n",
    "\n",
    "    @property\n",
    "    def sides(self):\n",
    "        return self._sides\n",
    "    \n",
    "    @sides.setter\n",
    "    def sides(self, value):\n",
    "        if len(value) != 3:\n",
    "            raise ValueError(\"There must be exactly 3 side lengths.\")\n",
    "        if not all(isinstance(val, (int, float)) and val > 0 for val in value):\n",
    "            raise ValueError(\"All side lengths must be non-zero integers or floats.\")\n",
    "        self._sides = value\n",
    "    \n",
    "    @property\n",
    "    def angles(self):\n",
    "        return self._angles\n",
    "    \n",
    "    @angles.setter\n",
    "    def angles(self, value):\n",
    "        if len(value) != 3:\n",
    "            raise ValueError(\"There must be exactly 3 angle values.\")\n",
    "        if not all(isinstance(val, (int, float)) and val > 0 for val in value):\n",
    "            raise ValueError(\"All angle values must be non-zero integers or floats.\")\n",
    "        if sum(value) != 180:\n",
    "            raise ValueError(\"The angles must add up to 180 degrees.\")\n",
    "        self._angles = value\n",
    "    \n",
    "    def perimeter(self):\n",
    "        return sum(self.sides)\n",
    "    \n",
    "    @staticmethod\n",
    "    def hypothenuse(side1, side2):\n",
    "        if not all(isinstance(val, (int, float)) and val > 0 for val in [side1, side2]):\n",
    "            raise ValueError(\"The sides must be non-zero integers or floats.\")\n",
    "        return (side1**2 + side2**2)**0.5\n",
    "    \n",
    "    def __gt__(self, other):\n",
    "        if not isinstance(other, Triangle):\n",
    "            return NotImplemented\n",
    "        return self.perimeter() > other.perimeter()\n",
    "    \n",
    "    def __iter__(self):\n",
    "        return iter(self.sides)\n",
    "\n",
    "class IsoscelesTriangle(Triangle):\n",
    "    def __init__(self, sides, angles):\n",
    "        if not (sides[0] == sides[1] or sides[1] == sides[2] or sides[0] == sides[2]):\n",
    "            raise ValueError(\"At least two sides must be equal for an isosceles triangle.\")\n",
    "        if not (angles[0] == angles[1] or angles[1] == angles[2] or angles[0] == angles[2]):\n",
    "            raise ValueError(\"At least two angles must be equal for an isosceles triangle.\")\n",
    "        super().__init__(sides, angles)\n",
    "    \n",
    "    def height(self):\n",
    "        # Assuming the first two sides are the equal ones and the third side is the base\n",
    "        base = self.sides[2]\n",
    "        equal_side = self.sides[0]\n",
    "        # Using the formula: height = sqrt(equal_side^2 - (base/2)^2)\n",
    "        height = math.sqrt(equal_side**2 - (base/2)**2)\n",
    "        return height\n",
    "\n",
    "# Example Usage\n",
    "isosceles_triangle = IsoscelesTriangle([5, 5, 6], [60, 60, 60])\n",
    "print(\"Perimeter of isosceles triangle:\", isosceles_triangle.perimeter())\n",
    "print(\"Height of the isosceles triangle:\", isosceles_triangle.height())\n",
    "\n",
    "# Comparison based on perimeter\n",
    "isosceles_triangle2 = IsoscelesTriangle([6, 6, 8], [70, 70, 40])\n",
    "print(\"IsoscelesTriangle1 is larger than IsoscelesTriangle2:\", isosceles_triangle > isosceles_triangle2)\n",
    "\n",
    "# Iterating over side lengths\n",
    "for side in isosceles_triangle:\n",
    "    print(\"Side length:\", side)\n"
   ]
  }
 ],
 "metadata": {
  "kernelspec": {
   "display_name": "Python 3",
   "language": "python",
   "name": "python3"
  },
  "language_info": {
   "codemirror_mode": {
    "name": "ipython",
    "version": 3
   },
   "file_extension": ".py",
   "mimetype": "text/x-python",
   "name": "python",
   "nbconvert_exporter": "python",
   "pygments_lexer": "ipython3",
   "version": "3.12.3"
  }
 },
 "nbformat": 4,
 "nbformat_minor": 2
}
