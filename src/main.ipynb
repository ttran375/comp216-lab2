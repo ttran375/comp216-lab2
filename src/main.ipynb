{
 "cells": [
  {
   "cell_type": "markdown",
   "metadata": {},
   "source": [
    "# Lecture 2"
   ]
  },
  {
   "cell_type": "markdown",
   "metadata": {},
   "source": [
    "## Question 1\n",
    "\n",
    "Create a Triangle Class based on the following\n",
    "specifications:\n",
    "\n",
    "-   Two arguments are accepted: 1) List of side lengths; 2) List of angles.\n",
    "\n",
    "    -   Validate 3 side length values and 3 angle values are provided.\n",
    "\n",
    "    -   All values in the list must be non-zero Int or Float.\n",
    "\n",
    "    -   The angles must add up to 180°\n",
    "\n",
    "    -   Hint: Use Property or Descriptor-based attributes.\n",
    "\n",
    "-   Create an Instance method to calculate the perimeter of the\n",
    "    triangle.\n",
    "\n",
    "-   Create a Static method to calculate the hypothenuse when supplied\n",
    "    with two sides.\n",
    "\n",
    "-   Create a Dunder method to determine if one triangle instance is\n",
    "    larger than another based it perimeter.\n",
    "\n",
    "-   Create a Dunder method to generate an iterator based on the side\n",
    "    lengths of a specific instance."
   ]
  },
  {
   "cell_type": "code",
   "execution_count": 1,
   "metadata": {},
   "outputs": [],
   "source": [
    "class Triangle:\n",
    "    def __init__(self, sides, angles):\n",
    "        self.sides = sides\n",
    "        self.angles = angles\n",
    "\n",
    "    @property\n",
    "    def sides(self):\n",
    "        return self._sides\n",
    "\n",
    "    @sides.setter\n",
    "    def sides(self, value):\n",
    "        if len(value) != 3:\n",
    "            raise ValueError(\"There must be exactly 3 side lengths.\")\n",
    "        if not all(isinstance(side, (int, float)) and side > 0 for side in value):\n",
    "            raise ValueError(\"All side lengths must be positive non-zero numbers.\")\n",
    "        self._sides = value\n",
    "\n",
    "    @property\n",
    "    def angles(self):\n",
    "        return self._angles\n",
    "\n",
    "    @angles.setter\n",
    "    def angles(self, value):\n",
    "        if len(value) != 3:\n",
    "            raise ValueError(\"There must be exactly 3 angles.\")\n",
    "        if not all(isinstance(angle, (int, float)) and angle > 0 for angle in value):\n",
    "            raise ValueError(\"All angles must be positive non-zero numbers.\")\n",
    "        if sum(value) != 180:\n",
    "            raise ValueError(\"The angles must add up to 180 degrees.\")\n",
    "        self._angles = value\n",
    "\n",
    "    def calculate_perimeter(self):\n",
    "        return sum(self.sides)\n",
    "\n",
    "    @staticmethod\n",
    "    def calculate_hypotenuse(side1, side2):\n",
    "        return (side1 ** 2 + side2 ** 2) ** 0.5\n",
    "\n",
    "    def __gt__(self, other):\n",
    "        if not isinstance(other, Triangle):\n",
    "            return NotImplemented\n",
    "        return self.calculate_perimeter() > other.calculate_perimeter()\n",
    "\n",
    "    def __iter__(self):\n",
    "        return iter(self.sides)"
   ]
  },
  {
   "cell_type": "markdown",
   "metadata": {},
   "source": [
    "## Question 2\n",
    "\n",
    "Based on the Triangle Class (above), create an Isosceles\n",
    "Triangle Subclass (e.g., two side and two angles are equal). Override\n",
    "and extend any inherited methods as needed.\n",
    "\n",
    "-   Create an Instance Method to determine the height of an isosceles\n",
    "    triangle."
   ]
  },
  {
   "cell_type": "code",
   "execution_count": 2,
   "metadata": {},
   "outputs": [],
   "source": [
    "class IsoscelesTriangle(Triangle):\n",
    "    def __init__(self, sides, angles):\n",
    "        super().__init__(sides, angles)\n",
    "        if len(set(sides)) != 2 or len(set(angles)) != 2:\n",
    "            raise ValueError(\"For an isosceles triangle, there must be two equal sides and two equal angles.\")\n",
    "\n",
    "    def calculate_height(self):\n",
    "        base = self.sides[0] if self.sides[1] == self.sides[2] else self.sides[2]\n",
    "        equal_side = self.sides[1] if self.sides[1] == self.sides[2] else self.sides[0]\n",
    "        height = (equal_side ** 2 - (base / 2) ** 2) ** 0.5\n",
    "        return height"
   ]
  },
  {
   "cell_type": "code",
   "execution_count": 3,
   "metadata": {},
   "outputs": [
    {
     "name": "stdout",
     "output_type": "stream",
     "text": [
      "Triangle perimeter: 12\n",
      "Hypotenuse: 5.0\n",
      "Triangle sides: [3, 4, 5]\n",
      "Is triangle1 > triangle2? False\n",
      "IsoscelesTriangle perimeter: 18\n",
      "IsoscelesTriangle height: 3.0\n",
      "IsoscelesTriangle sides: [5, 5, 8]\n"
     ]
    }
   ],
   "source": [
    "def main():\n",
    "    try:\n",
    "        # Create a Triangle instance\n",
    "        triangle = Triangle([3, 4, 5], [90, 60, 30])\n",
    "        print(f\"Triangle perimeter: {triangle.calculate_perimeter()}\")  # Output: 12\n",
    "        print(f\"Hypotenuse: {Triangle.calculate_hypotenuse(3, 4)}\")  # Output: 5.0\n",
    "        print(f\"Triangle sides: {list(triangle)}\")  # Output: [3, 4, 5]\n",
    "\n",
    "        # Create another Triangle instance for comparison\n",
    "        triangle2 = Triangle([6, 8, 10], [90, 60, 30])\n",
    "        print(f\"Is triangle1 > triangle2? {triangle > triangle2}\")  # Output: False\n",
    "\n",
    "        # Create an IsoscelesTriangle instance\n",
    "        isosceles_triangle = IsoscelesTriangle([5, 5, 8], [70, 70, 40])\n",
    "        print(f\"IsoscelesTriangle perimeter: {isosceles_triangle.calculate_perimeter()}\")  # Output: 18\n",
    "        print(f\"IsoscelesTriangle height: {isosceles_triangle.calculate_height()}\")  # Output: 4.358898944\n",
    "        print(f\"IsoscelesTriangle sides: {list(isosceles_triangle)}\")  # Output: [5, 5, 8]\n",
    "    except ValueError as e:\n",
    "        print(e)\n",
    "\n",
    "if __name__ == \"__main__\":\n",
    "    main()"
   ]
  }
 ],
 "metadata": {
  "kernelspec": {
   "display_name": "Python 3",
   "language": "python",
   "name": "python3"
  },
  "language_info": {
   "codemirror_mode": {
    "name": "ipython",
    "version": 3
   },
   "file_extension": ".py",
   "mimetype": "text/x-python",
   "name": "python",
   "nbconvert_exporter": "python",
   "pygments_lexer": "ipython3",
   "version": "3.12.3"
  }
 },
 "nbformat": 4,
 "nbformat_minor": 2
}
