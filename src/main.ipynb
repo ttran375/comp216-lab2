{
 "cells": [
  {
   "cell_type": "markdown",
   "metadata": {},
   "source": [
    "# Lab Exercises - Lectures 1 - 4"
   ]
  },
  {
   "cell_type": "markdown",
   "metadata": {},
   "source": [
    "## Lecture 1"
   ]
  },
  {
   "cell_type": "markdown",
   "metadata": {},
   "source": [
    "### Question 1\n",
    "\n",
    "Create a one-line expression that achieve the same output as\n",
    "the below with the square bracket notation.\n",
    "\n",
    "```python\n",
    "NBA = dict(\n",
    "    OklahomaCity=\"Thunder\",\n",
    "    Dallas=\"Mavericks\",\n",
    "    Boston=\"Celtics\",\n",
    "    NewYork=\"Knicks\",\n",
    "    Denver=\"Nuggets\",\n",
    ")\n",
    "\n",
    "retrieve = NBA.get(\"Toronto\", False)\n",
    "print(retrieve)\n",
    "```"
   ]
  },
  {
   "cell_type": "code",
   "execution_count": 14,
   "metadata": {},
   "outputs": [
    {
     "name": "stdout",
     "output_type": "stream",
     "text": [
      "False\n"
     ]
    }
   ],
   "source": [
    "NBA = dict(\n",
    "    OklahomaCity=\"Thunder\",\n",
    "    Dallas=\"Mavericks\",\n",
    "    Boston=\"Celtics\",\n",
    "    NewYork=\"Knicks\",\n",
    "    Denver=\"Nuggets\",\n",
    ")\n",
    "\n",
    "print(NBA['Toronto'] if 'Toronto' in NBA else False)"
   ]
  },
  {
   "cell_type": "markdown",
   "metadata": {},
   "source": [
    "### Question 2\n",
    "\n",
    "Given two numbers, a and b, write a function called\n",
    "compare_numbers that returns a string indicating the following:\n",
    "\n",
    "-   If a is greater than b, return \"a is greater\"\n",
    "\n",
    "-   If b is greater than a, return \"b is greater\"\n",
    "\n",
    "-   If both numbers are equal, return \"a and b are equal\"\n",
    "\n",
    "Use the ternary operator to implement the function.\n",
    "\n",
    "```python\n",
    "def compare_numbers(a, b):\n",
    "    pass\n",
    "```"
   ]
  },
  {
   "cell_type": "code",
   "execution_count": 15,
   "metadata": {},
   "outputs": [
    {
     "name": "stdout",
     "output_type": "stream",
     "text": [
      "b is greater\n",
      "a is greater\n",
      "a and b are equal\n"
     ]
    }
   ],
   "source": [
    "def compare_numbers(a, b):\n",
    "    return \"a is greater\" if a > b else \"b is greater\" if b > a else \"a and b are equal\"\n",
    "\n",
    "# Example usage:\n",
    "print(compare_numbers(3, 5))  # Output: b is greater\n",
    "print(compare_numbers(10, 2))  # Output: a is greater\n",
    "print(compare_numbers(4, 4))  # Output: a and b are equal"
   ]
  },
  {
   "cell_type": "markdown",
   "metadata": {},
   "source": [
    "### Question 3\n",
    "\n",
    "Examine following JS code snippet and re-create the logic\n",
    "using Python. Implement the logic as a function that accepts secret_word\n",
    "as a positional parameter and max_attempt as keyword parameter.\n",
    "\n",
    "```js\n",
    "let secret_word = \"javascript\";\n",
    "let max_attempt = 5;\n",
    "do {\n",
    "    userInput = prompt(\"Enter the secret word: \");\n",
    "    max_attempt -= 1;\n",
    "    console.log(max_attempt)\n",
    "} while (secret_word != userInput && max_attempt > 0);\n",
    "```"
   ]
  },
  {
   "cell_type": "code",
   "execution_count": 16,
   "metadata": {},
   "outputs": [
    {
     "name": "stdout",
     "output_type": "stream",
     "text": [
      "4\n",
      "3\n",
      "2\n",
      "1\n",
      "0\n"
     ]
    }
   ],
   "source": [
    "def guess_secret_word(secret_word, max_attempt=5):\n",
    "    while max_attempt > 0:\n",
    "        user_input = input(\"Enter the secret word: \")\n",
    "        max_attempt -= 1\n",
    "        print(max_attempt)\n",
    "        if secret_word == user_input:\n",
    "            break\n",
    "\n",
    "# Example usage:\n",
    "guess_secret_word(\"python\", max_attempt=5)"
   ]
  },
  {
   "cell_type": "markdown",
   "metadata": {},
   "source": [
    "### Question 4\n",
    "\n",
    "Based on the following function definition, identify which\n",
    "of the following parameters are positional-only, keyword-only and/or may\n",
    "be positionally or by keyword.\n",
    "\n",
    "```python\n",
    "def processor(value_1, value_2, /, value_3, value_4=False, *, value_5, value_6):\n",
    "    text = (value_1 + value_2).upper()\n",
    "    if value_3:\n",
    "        text += \"!\"\n",
    "    if value_4:\n",
    "        text = list(text)\n",
    "        text.extend((value_5, value_6))\n",
    "    return text\n",
    "```"
   ]
  },
  {
   "cell_type": "markdown",
   "metadata": {},
   "source": [
    "## Lecture 2"
   ]
  },
  {
   "cell_type": "markdown",
   "metadata": {},
   "source": [
    "### Question 1\n",
    "\n",
    "Create a Triangle Class based on the following\n",
    "specifications:\n",
    "\n",
    "-   Two arguments are accepted: 1) List of side lengths; 2) List of angles.\n",
    "\n",
    "    -   Validate 3 side length values and 3 angle values are provided.\n",
    "\n",
    "    -   All values in the list must be non-zero Int or Float.\n",
    "\n",
    "    -   The angles must add up to 180°\n",
    "\n",
    "    -   Hint: Use Property or Descriptor-based attributes.\n",
    "\n",
    "-   Create an Instance method to calculate the perimeter of the\n",
    "    triangle.\n",
    "\n",
    "-   Create a Static method to calculate the hypothenuse when supplied\n",
    "    with two sides.\n",
    "\n",
    "-   Create a Dunder method to determine if one triangle instance is\n",
    "    larger than another based it perimeter.\n",
    "\n",
    "-   Create a Dunder method to generate an iterator based on the side\n",
    "    lengths of a specific instance."
   ]
  },
  {
   "cell_type": "code",
   "execution_count": 17,
   "metadata": {},
   "outputs": [
    {
     "name": "stdout",
     "output_type": "stream",
     "text": [
      "Perimeter of triangle1: 12\n",
      "Hypothenuse of sides 3 and 4: 5.0\n",
      "Triangle1 is larger than Triangle2: False\n",
      "Side length: 3\n",
      "Side length: 4\n",
      "Side length: 5\n"
     ]
    }
   ],
   "source": [
    "class Triangle:\n",
    "    def __init__(self, sides, angles):\n",
    "        if len(sides) != 3 or len(angles) != 3:\n",
    "            raise ValueError(\"There must be exactly 3 side lengths and 3 angle values.\")\n",
    "        if not all(isinstance(value, (int, float)) and value > 0 for value in sides + angles):\n",
    "            raise ValueError(\"All values must be non-zero integers or floats.\")\n",
    "        if sum(angles) != 180:\n",
    "            raise ValueError(\"The angles must add up to 180 degrees.\")\n",
    "        \n",
    "        self.sides = sides\n",
    "        self.angles = angles\n",
    "\n",
    "    @property\n",
    "    def sides(self):\n",
    "        return self._sides\n",
    "    \n",
    "    @sides.setter\n",
    "    def sides(self, value):\n",
    "        if len(value) != 3:\n",
    "            raise ValueError(\"There must be exactly 3 side lengths.\")\n",
    "        if not all(isinstance(val, (int, float)) and val > 0 for val in value):\n",
    "            raise ValueError(\"All side lengths must be non-zero integers or floats.\")\n",
    "        self._sides = value\n",
    "    \n",
    "    @property\n",
    "    def angles(self):\n",
    "        return self._angles\n",
    "    \n",
    "    @angles.setter\n",
    "    def angles(self, value):\n",
    "        if len(value) != 3:\n",
    "            raise ValueError(\"There must be exactly 3 angle values.\")\n",
    "        if not all(isinstance(val, (int, float)) and val > 0 for val in value):\n",
    "            raise ValueError(\"All angle values must be non-zero integers or floats.\")\n",
    "        if sum(value) != 180:\n",
    "            raise ValueError(\"The angles must add up to 180 degrees.\")\n",
    "        self._angles = value\n",
    "    \n",
    "    def perimeter(self):\n",
    "        return sum(self.sides)\n",
    "    \n",
    "    @staticmethod\n",
    "    def hypothenuse(side1, side2):\n",
    "        if not all(isinstance(val, (int, float)) and val > 0 for val in [side1, side2]):\n",
    "            raise ValueError(\"The sides must be non-zero integers or floats.\")\n",
    "        return (side1**2 + side2**2)**0.5\n",
    "    \n",
    "    def __gt__(self, other):\n",
    "        if not isinstance(other, Triangle):\n",
    "            return NotImplemented\n",
    "        return self.perimeter() > other.perimeter()\n",
    "    \n",
    "    def __iter__(self):\n",
    "        return iter(self.sides)\n",
    "\n",
    "# Example Usage\n",
    "triangle1 = Triangle([3, 4, 5], [90, 60, 30])\n",
    "triangle2 = Triangle([6, 8, 10], [90, 45, 45])\n",
    "\n",
    "print(\"Perimeter of triangle1:\", triangle1.perimeter())\n",
    "print(\"Hypothenuse of sides 3 and 4:\", Triangle.hypothenuse(3, 4))\n",
    "\n",
    "# Comparison based on perimeter\n",
    "print(\"Triangle1 is larger than Triangle2:\", triangle1 > triangle2)\n",
    "\n",
    "# Iterating over side lengths\n",
    "for side in triangle1:\n",
    "    print(\"Side length:\", side)"
   ]
  },
  {
   "cell_type": "markdown",
   "metadata": {},
   "source": [
    "### Question 2\n",
    "\n",
    "Based on the Triangle Class (above), create an Isosceles\n",
    "Triangle Subclass (e.g., two side and two angles are equal). Override\n",
    "and extend any inherited methods as needed.\n",
    "\n",
    "-   Create an Instance Method to determine the height of an isosceles\n",
    "    triangle."
   ]
  },
  {
   "cell_type": "code",
   "execution_count": 18,
   "metadata": {},
   "outputs": [
    {
     "name": "stdout",
     "output_type": "stream",
     "text": [
      "Perimeter of isosceles triangle: 16\n",
      "Height of the isosceles triangle: 4.0\n",
      "IsoscelesTriangle1 is larger than IsoscelesTriangle2: False\n",
      "Side length: 5\n",
      "Side length: 5\n",
      "Side length: 6\n"
     ]
    }
   ],
   "source": [
    "import math\n",
    "\n",
    "class Triangle:\n",
    "    def __init__(self, sides, angles):\n",
    "        if len(sides) != 3 or len(angles) != 3:\n",
    "            raise ValueError(\"There must be exactly 3 side lengths and 3 angle values.\")\n",
    "        if not all(isinstance(value, (int, float)) and value > 0 for value in sides + angles):\n",
    "            raise ValueError(\"All values must be non-zero integers or floats.\")\n",
    "        if sum(angles) != 180:\n",
    "            raise ValueError(\"The angles must add up to 180 degrees.\")\n",
    "        \n",
    "        self.sides = sides\n",
    "        self.angles = angles\n",
    "\n",
    "    @property\n",
    "    def sides(self):\n",
    "        return self._sides\n",
    "    \n",
    "    @sides.setter\n",
    "    def sides(self, value):\n",
    "        if len(value) != 3:\n",
    "            raise ValueError(\"There must be exactly 3 side lengths.\")\n",
    "        if not all(isinstance(val, (int, float)) and val > 0 for val in value):\n",
    "            raise ValueError(\"All side lengths must be non-zero integers or floats.\")\n",
    "        self._sides = value\n",
    "    \n",
    "    @property\n",
    "    def angles(self):\n",
    "        return self._angles\n",
    "    \n",
    "    @angles.setter\n",
    "    def angles(self, value):\n",
    "        if len(value) != 3:\n",
    "            raise ValueError(\"There must be exactly 3 angle values.\")\n",
    "        if not all(isinstance(val, (int, float)) and val > 0 for val in value):\n",
    "            raise ValueError(\"All angle values must be non-zero integers or floats.\")\n",
    "        if sum(value) != 180:\n",
    "            raise ValueError(\"The angles must add up to 180 degrees.\")\n",
    "        self._angles = value\n",
    "    \n",
    "    def perimeter(self):\n",
    "        return sum(self.sides)\n",
    "    \n",
    "    @staticmethod\n",
    "    def hypothenuse(side1, side2):\n",
    "        if not all(isinstance(val, (int, float)) and val > 0 for val in [side1, side2]):\n",
    "            raise ValueError(\"The sides must be non-zero integers or floats.\")\n",
    "        return (side1**2 + side2**2)**0.5\n",
    "    \n",
    "    def __gt__(self, other):\n",
    "        if not isinstance(other, Triangle):\n",
    "            return NotImplemented\n",
    "        return self.perimeter() > other.perimeter()\n",
    "    \n",
    "    def __iter__(self):\n",
    "        return iter(self.sides)\n",
    "\n",
    "class IsoscelesTriangle(Triangle):\n",
    "    def __init__(self, sides, angles):\n",
    "        if not (sides[0] == sides[1] or sides[1] == sides[2] or sides[0] == sides[2]):\n",
    "            raise ValueError(\"At least two sides must be equal for an isosceles triangle.\")\n",
    "        if not (angles[0] == angles[1] or angles[1] == angles[2] or angles[0] == angles[2]):\n",
    "            raise ValueError(\"At least two angles must be equal for an isosceles triangle.\")\n",
    "        super().__init__(sides, angles)\n",
    "    \n",
    "    def height(self):\n",
    "        # Assuming the first two sides are the equal ones and the third side is the base\n",
    "        base = self.sides[2]\n",
    "        equal_side = self.sides[0]\n",
    "        # Using the formula: height = sqrt(equal_side^2 - (base/2)^2)\n",
    "        height = math.sqrt(equal_side**2 - (base/2)**2)\n",
    "        return height\n",
    "\n",
    "# Example Usage\n",
    "isosceles_triangle = IsoscelesTriangle([5, 5, 6], [60, 60, 60])\n",
    "print(\"Perimeter of isosceles triangle:\", isosceles_triangle.perimeter())\n",
    "print(\"Height of the isosceles triangle:\", isosceles_triangle.height())\n",
    "\n",
    "# Comparison based on perimeter\n",
    "isosceles_triangle2 = IsoscelesTriangle([6, 6, 8], [70, 70, 40])\n",
    "print(\"IsoscelesTriangle1 is larger than IsoscelesTriangle2:\", isosceles_triangle > isosceles_triangle2)\n",
    "\n",
    "# Iterating over side lengths\n",
    "for side in isosceles_triangle:\n",
    "    print(\"Side length:\", side)"
   ]
  },
  {
   "cell_type": "markdown",
   "metadata": {},
   "source": [
    "## Lecture 3"
   ]
  },
  {
   "cell_type": "markdown",
   "metadata": {},
   "source": [
    "### Question 1\n",
    "\n",
    "A user profile class was introduced into an application\n",
    "based on the following definition:\n",
    "\n",
    "```python\n",
    "class User:\n",
    "    registered_user_count = 0\n",
    "\n",
    "    def __init__(self, first_name, last_name, age, postal_code):\n",
    "        self.first_name = first_name\n",
    "        self.last_name = last_name\n",
    "        self.age = age\n",
    "        self.postal_code = postal_code\n",
    "\n",
    "    def registered(self, status):\n",
    "        self.registered = status\n",
    "        User.registered_user_count += 1\n",
    "```\n",
    "\n",
    "Update the relevant methods to ensure:\n",
    "\n",
    "-   The first_name and last_name attributes are supplied as strings that\n",
    "    only contain alphabetical characters. If not, raise a Value Error.\n",
    "\n",
    "-   The age attribute is supplied as an integer and the age \\> 13. If\n",
    "    not, raise a Value Error.\n",
    "\n",
    "-   The postal_code attribute is supplied as that only contains\n",
    "    alphanumerical characters. If not, raise a Value Error and\n",
    "    auto-populate the attribute with the value: ‘X0X0X0’."
   ]
  },
  {
   "cell_type": "code",
   "execution_count": 19,
   "metadata": {},
   "outputs": [
    {
     "name": "stdout",
     "output_type": "stream",
     "text": [
      "Registered users: 1\n",
      "Registered users: 2\n",
      "Age must be an integer greater than 13.\n"
     ]
    }
   ],
   "source": [
    "class User:\n",
    "    registered_user_count = 0\n",
    "\n",
    "    def __init__(self, first_name, last_name, age, postal_code):\n",
    "        if not first_name.isalpha():\n",
    "            raise ValueError(\"First name must only contain alphabetical characters.\")\n",
    "        if not last_name.isalpha():\n",
    "            raise ValueError(\"Last name must only contain alphabetical characters.\")\n",
    "        if not isinstance(age, int) or age <= 13:\n",
    "            raise ValueError(\"Age must be an integer greater than 13.\")\n",
    "        if not postal_code.isalnum():\n",
    "            postal_code = 'X0X0X0'\n",
    "        \n",
    "        self.first_name = first_name\n",
    "        self.last_name = last_name\n",
    "        self.age = age\n",
    "        self.postal_code = postal_code\n",
    "\n",
    "    def registered(self, status):\n",
    "        self.registered = status\n",
    "        User.registered_user_count += 1\n",
    "\n",
    "\n",
    "def main():\n",
    "    try:\n",
    "        user1 = User(\"John\", \"Doe\", 14, \"A1B2C3\")\n",
    "        user1.registered(True)\n",
    "        print(f\"Registered users: {User.registered_user_count}\")\n",
    "        \n",
    "        user2 = User(\"Jane\", \"Smith\", 15, \"123456\")\n",
    "        user2.registered(True)\n",
    "        print(f\"Registered users: {User.registered_user_count}\")\n",
    "\n",
    "        user3 = User(\"Alice\", \"Cooper\", 12, \"D4E5F6\")  # This will raise an error\n",
    "    except ValueError as e:\n",
    "        print(e)\n",
    "\n",
    "if __name__ == \"__main__\":\n",
    "    main()"
   ]
  },
  {
   "cell_type": "markdown",
   "metadata": {},
   "source": [
    "### Question 2\n",
    "\n",
    "Use the following list of tuples that contains and scores of\n",
    "students.\n",
    "\n",
    "```python\n",
    "students_scores = [\n",
    "    (\"Alice James\", 85),\n",
    "    (\"Adam Bonson\", 90),\n",
    "    (\"Matt Fowler\", 78),\n",
    "    (\"David Curry\", 92),\n",
    "    (\"Eva Porter\", 80),\n",
    "    (\"Azure Kelsey\", 79),\n",
    "    (\"Billie Jose\", 64),\n",
    "    (\"Willian Maxime\", 86),\n",
    "]\n",
    "```\n",
    "\n",
    "Create a dictionary that includes high achieving (or honour) students\n",
    "represented as key-value pairs:\n",
    "\n",
    "-   Keys must only include the first initial of the first name and full\n",
    "    last name\n",
    "\n",
    "-   Values must only include scores that are 80% and higher\n",
    "\n",
    "The expected output is the following:\n",
    "\n",
    "```python\n",
    "honour_students = {\n",
    "    \"A. James\": 85,\n",
    "    \"A. Bonson\": 90,\n",
    "    \"D. Curry\": 92,\n",
    "    \"E. Porter\": 80,\n",
    "    \"W. Maxime\": 86,\n",
    "}\n",
    "```"
   ]
  },
  {
   "cell_type": "code",
   "execution_count": 20,
   "metadata": {},
   "outputs": [
    {
     "name": "stdout",
     "output_type": "stream",
     "text": [
      "{'A. James': 85, 'A. Bonson': 90, 'D. Curry': 92, 'E. Porter': 80, 'W. Maxime': 86}\n"
     ]
    }
   ],
   "source": [
    "students_scores = [\n",
    "    (\"Alice James\", 85),\n",
    "    (\"Adam Bonson\", 90),\n",
    "    (\"Matt Fowler\", 78),\n",
    "    (\"David Curry\", 92),\n",
    "    (\"Eva Porter\", 80),\n",
    "    (\"Azure Kelsey\", 79),\n",
    "    (\"Billie Jose\", 64),\n",
    "    (\"Willian Maxime\", 86),\n",
    "]\n",
    "\n",
    "honour_students = {\n",
    "    f\"{name.split()[0][0]}. {name.split()[1]}\": score\n",
    "    for name, score in students_scores\n",
    "    if score >= 80\n",
    "}\n",
    "\n",
    "print(honour_students)"
   ]
  },
  {
   "cell_type": "markdown",
   "metadata": {},
   "source": [
    "### Question 3\n",
    "\n",
    "Given the range object (below), create a single line\n",
    "statement that utilizes a map(), filter() and lambda functions to\n",
    "achieve the following:\n",
    "\n",
    "-   Filter the list to include only the even numbers.\n",
    "\n",
    "-   Square each of the filtered even numbers.\n",
    "\n",
    "Use the following as the input: `numbers = range(1, 75, 3)`.\n",
    "\n",
    "Afterwards, implement the same logic utilizing for loops and compare the\n",
    "difference in the compute time between the two approaches."
   ]
  },
  {
   "cell_type": "code",
   "execution_count": 21,
   "metadata": {},
   "outputs": [],
   "source": [
    "numbers = range(1, 75, 3)\n",
    "result = list(map(lambda x: x**2, filter(lambda x: x % 2 == 0, numbers)))"
   ]
  },
  {
   "cell_type": "code",
   "execution_count": 22,
   "metadata": {},
   "outputs": [],
   "source": [
    "numbers = range(1, 75, 3)\n",
    "filtered_squares = []\n",
    "for number in numbers:\n",
    "    if number % 2 == 0:\n",
    "        filtered_squares.append(number**2)"
   ]
  },
  {
   "cell_type": "code",
   "execution_count": 23,
   "metadata": {},
   "outputs": [
    {
     "name": "stdout",
     "output_type": "stream",
     "text": [
      "Result using map, filter, and lambda: [16, 100, 256, 484, 784, 1156, 1600, 2116, 2704, 3364, 4096, 4900]\n",
      "Compute time using map, filter, and lambda: 9.1552734375e-05\n",
      "Result using for loops: [16, 100, 256, 484, 784, 1156, 1600, 2116, 2704, 3364, 4096, 4900]\n",
      "Compute time using for loops: 8.130073547363281e-05\n"
     ]
    }
   ],
   "source": [
    "import time\n",
    "\n",
    "# Using map, filter, and lambda\n",
    "start_time = time.time()\n",
    "result_map_filter = list(map(lambda x: x**2, filter(lambda x: x % 2 == 0, numbers)))\n",
    "end_time = time.time()\n",
    "time_map_filter = end_time - start_time\n",
    "\n",
    "# Using for loops\n",
    "start_time = time.time()\n",
    "filtered_squares_loop = []\n",
    "for number in numbers:\n",
    "    if number % 2 == 0:\n",
    "        filtered_squares_loop.append(number**2)\n",
    "end_time = time.time()\n",
    "time_for_loops = end_time - start_time\n",
    "\n",
    "# Print results and compute times\n",
    "print(\"Result using map, filter, and lambda:\", result_map_filter)\n",
    "print(\"Compute time using map, filter, and lambda:\", time_map_filter)\n",
    "\n",
    "print(\"Result using for loops:\", filtered_squares_loop)\n",
    "print(\"Compute time using for loops:\", time_for_loops)"
   ]
  }
 ],
 "metadata": {
  "kernelspec": {
   "display_name": "Python 3",
   "language": "python",
   "name": "python3"
  },
  "language_info": {
   "codemirror_mode": {
    "name": "ipython",
    "version": 3
   },
   "file_extension": ".py",
   "mimetype": "text/x-python",
   "name": "python",
   "nbconvert_exporter": "python",
   "pygments_lexer": "ipython3",
   "version": "3.10.13"
  }
 },
 "nbformat": 4,
 "nbformat_minor": 2
}
