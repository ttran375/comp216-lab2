{
 "cells": [
  {
   "cell_type": "markdown",
   "metadata": {},
   "source": [
    "# Lecture 2"
   ]
  },
  {
   "cell_type": "markdown",
   "metadata": {},
   "source": [
    "## Question 1\n",
    "\n",
    "Create a Triangle Class based on the following\n",
    "specifications:\n",
    "\n",
    "-   Two arguments are accepted: 1) List of side lengths; 2) List of angles.\n",
    "\n",
    "    -   Validate 3 side length values and 3 angle values are provided.\n",
    "\n",
    "    -   All values in the list must be non-zero Int or Float.\n",
    "\n",
    "    -   The angles must add up to 180°\n",
    "\n",
    "    -   Hint: Use Property or Descriptor-based attributes.\n",
    "\n",
    "-   Create an Instance method to calculate the perimeter of the\n",
    "    triangle.\n",
    "\n",
    "-   Create a Static method to calculate the hypothenuse when supplied\n",
    "    with two sides.\n",
    "\n",
    "-   Create a Dunder method to determine if one triangle instance is\n",
    "    larger than another based it perimeter.\n",
    "\n",
    "-   Create a Dunder method to generate an iterator based on the side\n",
    "    lengths of a specific instance."
   ]
  },
  {
   "cell_type": "code",
   "execution_count": 4,
   "metadata": {},
   "outputs": [],
   "source": [
    "import math\n",
    "\n",
    "\n",
    "class Triangle:\n",
    "    def __init__(self, sides, angles):\n",
    "        self.sides = sides\n",
    "        self.angles = angles\n",
    "\n",
    "    @property\n",
    "    def sides(self):\n",
    "        return self._sides\n",
    "\n",
    "    @sides.setter\n",
    "    def sides(self, value):\n",
    "        if len(value) != 3:\n",
    "            raise ValueError(\"Exactly three side lengths must be provided.\")\n",
    "        if not all(isinstance(x, (int, float)) and x > 0 for x in value):\n",
    "            raise ValueError(\n",
    "                \"All side lengths must be non-zero integers or floats.\")\n",
    "        self._sides = value\n",
    "\n",
    "    @property\n",
    "    def angles(self):\n",
    "        return self._angles\n",
    "\n",
    "    @angles.setter\n",
    "    def angles(self, value):\n",
    "        if len(value) != 3:\n",
    "            raise ValueError(\"Exactly three angle values must be provided.\")\n",
    "        if not all(isinstance(x, (int, float)) and x > 0 for x in value):\n",
    "            raise ValueError(\n",
    "                \"All angle values must be non-zero integers or floats.\")\n",
    "        if not math.isclose(sum(value), 180, rel_tol=1e-9):\n",
    "            raise ValueError(\"The sum of the angles must be 180 degrees.\")\n",
    "        self._angles = value\n",
    "\n",
    "    def perimeter(self):\n",
    "        return sum(self.sides)\n",
    "\n",
    "    @staticmethod\n",
    "    def hypotenuse(side1, side2):\n",
    "        if not (isinstance(side1, (int, float)) and isinstance(side2, (int, float))):\n",
    "            raise ValueError(\"Both sides must be integers or floats.\")\n",
    "        return (side1 ** 2 + side2 ** 2) ** 0.5\n",
    "\n",
    "    def __lt__(self, other):\n",
    "        if not isinstance(other, Triangle):\n",
    "            return NotImplemented\n",
    "        return self.perimeter() < other.perimeter()\n",
    "\n",
    "    def __iter__(self):\n",
    "        return iter(self.sides)"
   ]
  },
  {
   "cell_type": "markdown",
   "metadata": {},
   "source": [
    "## Question 2\n",
    "\n",
    "Based on the Triangle Class (above), create an Isosceles\n",
    "Triangle Subclass (e.g., two side and two angles are equal). Override\n",
    "and extend any inherited methods as needed.\n",
    "\n",
    "-   Create an Instance Method to determine the height of an isosceles\n",
    "    triangle."
   ]
  },
  {
   "cell_type": "code",
   "execution_count": 5,
   "metadata": {},
   "outputs": [],
   "source": [
    "class IsoscelesTriangle(Triangle):\n",
    "    def __init__(self, sides, angles):\n",
    "        super().__init__(sides, angles)\n",
    "        if not (sides[0] == sides[1] or sides[1] == sides[2] or sides[0] == sides[2]):\n",
    "            raise ValueError(\n",
    "                \"In an isosceles triangle, at least two sides must be equal.\")\n",
    "        if not (angles[0] == angles[1] or angles[1] == angles[2] or angles[0] == angles[2]):\n",
    "            raise ValueError(\n",
    "                \"In an isosceles triangle, at least two angles must be equal.\")\n",
    "\n",
    "    def height(self):\n",
    "        if self.sides[0] == self.sides[1]:\n",
    "            base = self.sides[2]\n",
    "            equal_side = self.sides[0]\n",
    "        elif self.sides[1] == self.sides[2]:\n",
    "            base = self.sides[0]\n",
    "            equal_side = self.sides[1]\n",
    "        else:\n",
    "            base = self.sides[1]\n",
    "            equal_side = self.sides[0]\n",
    "\n",
    "        height = math.sqrt(equal_side ** 2 - (base / 2) ** 2)\n",
    "        return height"
   ]
  },
  {
   "cell_type": "code",
   "execution_count": 6,
   "metadata": {},
   "outputs": [
    {
     "name": "stdout",
     "output_type": "stream",
     "text": [
      "Perimeter of triangle1: 12\n",
      "Perimeter of triangle2: 24\n",
      "Hypotenuse of sides 3 and 4: 5.0\n",
      "Is triangle1 smaller than triangle2? True\n",
      "Sides of triangle1:\n",
      "3\n",
      "4\n",
      "5\n",
      "Height of isosceles triangle: 4.698499760561876\n"
     ]
    }
   ],
   "source": [
    "def main():\n",
    "\n",
    "    triangle1 = Triangle([3, 4, 5], [90, 53.13, 36.87])\n",
    "    triangle2 = Triangle([6, 8, 10], [90, 53.13, 36.87])\n",
    "    isosceles_triangle = IsoscelesTriangle([5, 5, 3.42], [70, 70, 40])\n",
    "\n",
    "    print(\"Perimeter of triangle1:\", triangle1.perimeter())\n",
    "    print(\"Perimeter of triangle2:\", triangle2.perimeter())\n",
    "\n",
    "    print(\"Hypotenuse of sides 3 and 4:\",\n",
    "          Triangle.hypotenuse(3, 4))\n",
    "\n",
    "    print(\"Is triangle1 smaller than triangle2?\",\n",
    "          triangle1 < triangle2)\n",
    "\n",
    "    print(\"Sides of triangle2:\")\n",
    "    for side in triangle2:\n",
    "        print(side)\n",
    "\n",
    "    print(\"Height of isosceles triangle:\", isosceles_triangle.height())\n",
    "\n",
    "\n",
    "if __name__ == \"__main__\":\n",
    "    main()"
   ]
  }
 ],
 "metadata": {
  "kernelspec": {
   "display_name": "Python 3",
   "language": "python",
   "name": "python3"
  },
  "language_info": {
   "codemirror_mode": {
    "name": "ipython",
    "version": 3
   },
   "file_extension": ".py",
   "mimetype": "text/x-python",
   "name": "python",
   "nbconvert_exporter": "python",
   "pygments_lexer": "ipython3",
   "version": "3.12.3"
  }
 },
 "nbformat": 4,
 "nbformat_minor": 2
}
